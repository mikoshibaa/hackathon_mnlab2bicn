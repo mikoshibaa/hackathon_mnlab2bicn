{
  "cells": [
    {
      "cell_type": "markdown",
      "metadata": {
        "id": "QvdpGFyIlrAY"
      },
      "source": [
        "Sample script for MNLab2BICN.\n",
        "\n",
        "メディアネットワーク実験IIB 項目Iで利用するサンプル．\n",
        "\n",
        "PSK および QAM は適切に実装されていません．`要修正`を要修正です．"
      ]
    },
    {
      "cell_type": "markdown",
      "metadata": {
        "id": "35KN_92MlrAf"
      },
      "source": [
        "必要なファイルを`github`から取り出す．"
      ]
    },
    {
      "cell_type": "code",
      "execution_count": 19,
      "metadata": {
        "id": "pDfdFem-lrAh",
        "colab": {
          "base_uri": "https://localhost:8080/"
        },
        "outputId": "eb737a6a-a1c8-45a9-a3f0-d27695ca5c1a"
      },
      "outputs": [
        {
          "output_type": "stream",
          "name": "stdout",
          "text": [
            "Already up to date.\n"
          ]
        }
      ],
      "source": [
        "!test -d mnlab2bicn && (cd mnlab2bicn ; git pull) || git clone https://github.com/htsutsui/mnlab2bicn/\n",
        "!cp mnlab2bicn/mnlab2bicn.py .\n",
        "!cp mnlab2bicn/gray.py ."
      ]
    },
    {
      "cell_type": "markdown",
      "metadata": {
        "id": "7PV5gWjIlrAj"
      },
      "source": [
        "`mnlab2bicn`が依存する`gmpy2` (BER計算を高速化する)をインストールする．\n",
        "なお，`gmpy2`が無くてもBER計算は可能(若干遅くなる)なので，エラーが生じる場合は無視すること．"
      ]
    },
    {
      "cell_type": "code",
      "execution_count": 20,
      "metadata": {
        "scrolled": true,
        "id": "xXnX1R_TlrAl",
        "colab": {
          "base_uri": "https://localhost:8080/"
        },
        "outputId": "5d11b80c-7451-4c6b-e4ea-f7e49b0a0ddf"
      },
      "outputs": [
        {
          "output_type": "stream",
          "name": "stdout",
          "text": [
            "\r0% [Working]\r            \rHit:1 https://cloud.r-project.org/bin/linux/ubuntu bionic-cran40/ InRelease\n",
            "\r0% [Waiting for headers] [Waiting for headers] [Waiting for headers] [Waiting f\r                                                                               \rIgn:2 https://developer.download.nvidia.com/compute/cuda/repos/ubuntu1804/x86_64  InRelease\n",
            "\r0% [Waiting for headers] [Waiting for headers] [Waiting for headers] [Waiting f\r0% [1 InRelease gpgv 3,626 B] [Waiting for headers] [Waiting for headers] [Wait\r                                                                               \rHit:3 http://security.ubuntu.com/ubuntu bionic-security InRelease\n",
            "Hit:4 http://ppa.launchpad.net/c2d4u.team/c2d4u4.0+/ubuntu bionic InRelease\n",
            "Ign:5 https://developer.download.nvidia.com/compute/machine-learning/repos/ubuntu1804/x86_64  InRelease\n",
            "Hit:6 http://archive.ubuntu.com/ubuntu bionic InRelease\n",
            "Hit:7 https://developer.download.nvidia.com/compute/cuda/repos/ubuntu1804/x86_64  Release\n",
            "Hit:8 https://developer.download.nvidia.com/compute/machine-learning/repos/ubuntu1804/x86_64  Release\n",
            "Hit:9 http://archive.ubuntu.com/ubuntu bionic-updates InRelease\n",
            "Hit:10 http://ppa.launchpad.net/cran/libgit2/ubuntu bionic InRelease\n",
            "Hit:11 http://archive.ubuntu.com/ubuntu bionic-backports InRelease\n",
            "Hit:12 http://ppa.launchpad.net/deadsnakes/ppa/ubuntu bionic InRelease\n",
            "Hit:14 http://ppa.launchpad.net/graphics-drivers/ppa/ubuntu bionic InRelease\n",
            "Reading package lists... Done\n",
            "Reading package lists... Done\n",
            "Building dependency tree       \n",
            "Reading state information... Done\n",
            "libgmp-dev is already the newest version (2:6.1.2+dfsg-2).\n",
            "libmpc-dev is already the newest version (1.1.0-1).\n",
            "libmpfr-dev is already the newest version (4.0.1-1).\n",
            "0 upgraded, 0 newly installed, 0 to remove and 56 not upgraded.\n",
            "Requirement already satisfied: gmpy2 in /usr/local/lib/python3.7/dist-packages (2.1.2)\n"
          ]
        }
      ],
      "source": [
        "!sudo apt-get update\n",
        "!sudo apt-get install -y libgmp-dev libmpfr-dev libmpc-dev\n",
        "!pip install gmpy2"
      ]
    },
    {
      "cell_type": "markdown",
      "metadata": {
        "id": "L9LU32hAlrAl"
      },
      "source": [
        "NumPy と Matplotlib を使うので`import`する．"
      ]
    },
    {
      "cell_type": "code",
      "execution_count": 21,
      "metadata": {
        "id": "vcBC8__rlrAm"
      },
      "outputs": [],
      "source": [
        "import matplotlib.pyplot as plt\n",
        "import numpy as np"
      ]
    },
    {
      "cell_type": "code",
      "source": [
        "np.set_printoptions(threshold=np.inf)"
      ],
      "metadata": {
        "id": "LuE9kTScgtaO"
      },
      "execution_count": 39,
      "outputs": []
    },
    {
      "cell_type": "markdown",
      "metadata": {
        "id": "hQ7lQ4-JlrAn"
      },
      "source": [
        "実験で使用するあらかじめ用意されている関数を`import`する．"
      ]
    },
    {
      "cell_type": "code",
      "execution_count": 22,
      "metadata": {
        "id": "dvFo-VF-lrAo"
      },
      "outputs": [],
      "source": [
        "from mnlab2bicn import awgn, calc_ser, calc_ber, \\\n",
        "    int2gray, gray2int, scatter_plot"
      ]
    },
    {
      "cell_type": "markdown",
      "metadata": {
        "id": "FX40CPdTlrAp"
      },
      "source": [
        "このscript中で利用するdebug用の変数．"
      ]
    },
    {
      "cell_type": "code",
      "execution_count": 23,
      "metadata": {
        "id": "NYxZ0JFZlrAq"
      },
      "outputs": [],
      "source": [
        "verbose = True # True だと for loop の処理の状況(進み具合)が確認できる\n",
        "verbose_awgn = False"
      ]
    },
    {
      "cell_type": "markdown",
      "metadata": {
        "id": "qsLri4b9lrAq"
      },
      "source": [
        "PSKのシミュレーションを行う関数を定義する．"
      ]
    },
    {
      "cell_type": "code",
      "execution_count": 75,
      "metadata": {
        "id": "GwIIbEXklrAq"
      },
      "outputs": [],
      "source": [
        "def psk_test(m_level, i_snr, i_size, plot=False, gray=False):\n",
        "    \"\"\"PSK test\n",
        "\n",
        "    Parameters\n",
        "    ----------\n",
        "    m_level: modulation level (integer)\n",
        "    i_snr: SNR in dB\n",
        "    i_size: number of samples\n",
        "    plot: optional. if True, scatter plot will be generated.\n",
        "    gray: optional. if True, gray code is used.\n",
        "\n",
        "    Returns\n",
        "    -------\n",
        "    (SER, BER)\n",
        "    \"\"\"\n",
        "    src = np.random.randint(m_level, size=i_size)\n",
        "\n",
        "    x = int2gray(src) if gray else src\n",
        "\n",
        "    # Start of 要修正\n",
        "    y = np.exp(1j*np.pi*2/m_level*x)\n",
        "    # End of 要修正\n",
        "\n",
        "    y_noisy = awgn(y, i_snr, verbose_awgn)\n",
        "\n",
        "    if plot:\n",
        "        scatter_plot(y_noisy, f\"PSK_{m_level}_{i_snr}_{i_size}\")\n",
        "\n",
        "    # Start of 要修正\n",
        "    z = np.angle(y_noisy)\n",
        "    z = z/(np.pi*2/m_level)\n",
        "    z = z.round()\n",
        "    z = np.array(z.round(), dtype='int')\n",
        "    z = np.where(z<0, z+m_level, z)\n",
        "    # End of 要修正\n",
        "\n",
        "    z = np.array(z, dtype='int')\n",
        "\n",
        "    dst = gray2int(z) if gray else z\n",
        "\n",
        "    return (calc_ser(src, dst), calc_ber(src, dst, m_level))"
      ]
    },
    {
      "cell_type": "markdown",
      "source": [
        "## II)らせん状シフトキーイング\n",
        "### その名もArchimedes Shift Keyingです．\n",
        "情報信号$x$を位相シフトと振幅シフトを行い\n",
        "$$y = r(x) e^{j \\theta(x)}$$とします． <br>\n",
        "ここで位相シフト$r(x)$と振幅シフト$\\theta(x)$は$x$によって決まり，基本となる数式は以下で表現されます<br>\n",
        "\n",
        "$$\n",
        "\\theta = \\Delta \\theta  \\cdot x\\\\\n",
        "r = a \\theta \\\\\n",
        " \\\\\n",
        "\\Delta \\theta = \\frac{2.0 \\pi}{回転数} \\cdot \\frac{1}{配置信号数} {//{間違い}}\\\\\n",
        "\\Delta \\theta = \\frac{2\\pi \\cdot (回転数)}{(信号配置数)} \n",
        "$$\n",
        "\n",
        "なお，$a$は振幅$r$の最大値が$1.0$になるように正規化するための定数です．"
      ],
      "metadata": {
        "id": "pP8X0W6_q8wo"
      }
    },
    {
      "cell_type": "code",
      "source": [
        "import math\n",
        "\n",
        "def ask_test(m_level, i_snr, i_size, rotation_num = 2, plot=False, gray=False):\n",
        "    \"\"\"PSK test\n",
        "\n",
        "    Parameters\n",
        "    ----------\n",
        "    m_level: modulation level (integer)\n",
        "    i_snr: SNR in dB\n",
        "    i_size: number of samples\n",
        "    a: r = a * theta\n",
        "    rotation_num: くるくる回転する回数\n",
        "    plot: optional. if True, scatter plot will be generated.\n",
        "    gray: optional. if True, gray code is used.\n",
        "\n",
        "    Returns\n",
        "    -------\n",
        "    (SER, BER)\n",
        "    \"\"\"\n",
        "    src = np.random.randint(m_level, size=i_size)\n",
        "\n",
        "    x = int2gray(src) if gray else src\n",
        "\n",
        "\n",
        "    # Start of 要修正\n",
        "    #y = np.exp(1j*np.pi*2/m_level*x)\n",
        "    # End of 要修正\n",
        "    \"\"\"\n",
        "    2.0 * np.pi * (rotation_num + 1) * a= 1.0\n",
        "    <-> a = 1.0 / (2.0 * np.pi * (rotation_num + 1))\n",
        "    \"\"\"\n",
        "    a = 1.0 / (2.0 * np.pi * (rotation_num + 1))\n",
        "    d_theta = (np.pi * 2.0 * rotation_num) / m_level\n",
        "\n",
        "\n",
        "    # Start of True siglal position\n",
        "    x_true = np.arange(m_level)\n",
        "\n",
        "    theta = d_theta * x_true + (2.0 * np.pi) * 1.0\n",
        "    r = a * theta\n",
        "    y_true = r * np.exp(1j*theta)\n",
        "\n",
        "    # End of True siglal position\n",
        "\n",
        "    \"\"\"\n",
        "    xに位相シフトと振幅シフトを適用させる\n",
        "    y = r * exp(j theta x)\n",
        "    r = a * theta\n",
        "    \"\"\"\n",
        "\n",
        "    #Shift Start\n",
        "    theta = d_theta * x + (2.0 * np.pi) * 1.0\n",
        "    r = a * theta\n",
        "    y = r * np.exp(1j*theta)\n",
        "    #Shift End\n",
        "\n",
        "    y_noisy = awgn(y, i_snr, verbose_awgn)\n",
        "\n",
        "    if plot:\n",
        "        scatter_plot(y_noisy, f\"PSK_{m_level}_{i_snr}_{i_size}\")\n",
        "\n",
        "    # Start of ASK Decryption\n",
        "    z = np.abs(y_noisy) # z = r\n",
        "\n",
        "    z = (z/a - 2.0 * np.pi) / d_theta\n",
        "\n",
        "    z = z + (z < 0) * abs(z) # if z < 0 then z <- 0\n",
        "    # End of ASK Decryption\n",
        "\n",
        "\n",
        "    z = np.array(z, dtype='int')\n",
        "\n",
        "    dst = gray2int(z) if gray else z\n",
        "\n",
        "    return (calc_ser(src, dst), calc_ber(src, dst, m_level))"
      ],
      "metadata": {
        "id": "-IV8rfsrq7pu"
      },
      "execution_count": 77,
      "outputs": []
    },
    {
      "cell_type": "markdown",
      "source": [
        "#### 複号技術\n",
        "我々の目的は変調した信号$y$にGauss雑音$\\epsilon$が乗った$z = y + \\epsilon$から$x$を複号することです．受信側は$z$しか観測できていないことに注意しましょう．\n",
        "$$\n",
        "  z = r e^{j \\theta}\n",
        "$$\n",
        "とおき，今回のアルゴリズムは振幅$r$から情報信号$x$を復号してみることにします．<br>\n",
        "上式より\n",
        "$$\n",
        "r = |z|\n",
        "$$\n",
        "と絶対値をとることで求められます．<br>\n",
        "また，変調$r = a \\theta  , (\\theta = \\Delta \\theta \\cdot x)$を思い出しましょう．いま，$r$をとりだしたので，情報信号$x$は以下のように予測することができます．\n",
        "$$\n",
        "\\hat{x} = \\frac{r}{a} \\cdot \\frac{1}{\\Delta \\theta }\n",
        "$$"
      ],
      "metadata": {
        "id": "AunUyVjv-56Y"
      }
    },
    {
      "cell_type": "code",
      "source": [
        ""
      ],
      "metadata": {
        "id": "VEpDPvOr90_K"
      },
      "execution_count": 63,
      "outputs": []
    },
    {
      "cell_type": "markdown",
      "source": [
        "### 信号配置を見てみましょう"
      ],
      "metadata": {
        "id": "D8TVD0057bUh"
      }
    },
    {
      "cell_type": "code",
      "source": [
        "ask_test(m_level = 64, i_snr = 40, i_size = 20000, rotation_num = 3, plot=True)"
      ],
      "metadata": {
        "colab": {
          "base_uri": "https://localhost:8080/",
          "height": 314
        },
        "id": "DeiIOm7AtlaF",
        "outputId": "e909fc70-cbdc-4d1d-fbb0-75450ecd72e5"
      },
      "execution_count": 79,
      "outputs": [
        {
          "output_type": "execute_result",
          "data": {
            "text/plain": [
              "(0.49685, 0.15870833333333334)"
            ]
          },
          "metadata": {},
          "execution_count": 79
        },
        {
          "output_type": "display_data",
          "data": {
            "image/png": "[encoded data removed]",
            "text/plain": [
              "<Figure size 432x288 with 1 Axes>"
            ]
          },
          "metadata": {
            "needs_background": "light"
          }
        }
      ]
    },
    {
      "cell_type": "code",
      "source": [
        "ask_test(m_level = 64, i_snr = 40, i_size = 20000, rotation_num = 2, plot=True)"
      ],
      "metadata": {
        "colab": {
          "base_uri": "https://localhost:8080/",
          "height": 314
        },
        "id": "x_T1lYJhnfmH",
        "outputId": "4b482cc4-b5df-454e-8af1-f1343d7b7628"
      },
      "execution_count": 88,
      "outputs": [
        {
          "output_type": "execute_result",
          "data": {
            "text/plain": [
              "(0.506, 0.16069166666666668)"
            ]
          },
          "metadata": {},
          "execution_count": 88
        },
        {
          "output_type": "display_data",
          "data": {
            "image/png": "[encoded data removed]",
            "text/plain": [
              "<Figure size 432x288 with 1 Axes>"
            ]
          },
          "metadata": {
            "needs_background": "light"
          }
        }
      ]
    },
    {
      "cell_type": "code",
      "source": [
        "ask_test(m_level = 16, i_snr = 40, i_size = 20000, rotation_num = 3, plot=True)"
      ],
      "metadata": {
        "colab": {
          "base_uri": "https://localhost:8080/",
          "height": 332
        },
        "id": "OC5AKF3m6ZzT",
        "outputId": "6d471a10-e128-4726-f752-67bcc3b418ee"
      },
      "execution_count": 65,
      "outputs": [
        {
          "output_type": "stream",
          "name": "stdout",
          "text": [
            "False\n"
          ]
        },
        {
          "output_type": "execute_result",
          "data": {
            "text/plain": [
              "(0.4679, 0.2028875)"
            ]
          },
          "metadata": {},
          "execution_count": 65
        },
        {
          "output_type": "display_data",
          "data": {
            "image/png": "[encoded data removed]",
            "text/plain": [
              "<Figure size 432x288 with 1 Axes>"
            ]
          },
          "metadata": {
            "needs_background": "light"
          }
        }
      ]
    },
    {
      "cell_type": "code",
      "source": [
        "ask_test(m_level = 4, i_snr = 40, i_size = 20000, rotation_num = 3, plot=True)"
      ],
      "metadata": {
        "colab": {
          "base_uri": "https://localhost:8080/",
          "height": 332
        },
        "id": "I24cpueQ6cg_",
        "outputId": "c76de065-ba8b-4317-e88f-00e18ad3a871"
      },
      "execution_count": 66,
      "outputs": [
        {
          "output_type": "stream",
          "name": "stdout",
          "text": [
            "False\n"
          ]
        },
        {
          "output_type": "execute_result",
          "data": {
            "text/plain": [
              "(0.37975, 0.251525)"
            ]
          },
          "metadata": {},
          "execution_count": 66
        },
        {
          "output_type": "display_data",
          "data": {
            "image/png": "[encoded data removed]",
            "text/plain": [
              "<Figure size 432x288 with 1 Axes>"
            ]
          },
          "metadata": {
            "needs_background": "light"
          }
        }
      ]
    },
    {
      "cell_type": "markdown",
      "source": [
        "### Archimedesの螺旋になっていることが分かると思います．"
      ],
      "metadata": {
        "id": "i0oIZZZS7hXf"
      }
    },
    {
      "cell_type": "markdown",
      "source": [
        "### 普通のPSKに対してSNR-BERグラフをプロットしてみましょう．"
      ],
      "metadata": {
        "id": "1-3QMtA67tXI"
      }
    },
    {
      "cell_type": "code",
      "source": [
        "size = 200000\n",
        "for m in [64, 16, 4]:\n",
        "    snrs = []\n",
        "    bers = []\n",
        "    for snr in range(0, 55, 2):\n",
        "        ser, ber = psk_test(m, snr, size)\n",
        "        if verbose:\n",
        "            print([snr, m, ser, ber])\n",
        "        if ber < 1e-6:\n",
        "            break\n",
        "        snrs.append(snr)\n",
        "        bers.append(ber)\n",
        "    plt.semilogy(snrs, bers, '-o', label=f\"{m}PSK\")\n",
        "\n",
        "    #ASK\n",
        "    snrs = []\n",
        "    bers = []\n",
        "    for snr in range(0, 55, 2):\n",
        "        ser, ber = ask_test(m, snr, size, rotation_num = 2)\n",
        "        if verbose:\n",
        "            print([snr, m, ser, ber])\n",
        "        if ber < 1e-6:\n",
        "            break\n",
        "        snrs.append(snr)\n",
        "        bers.append(ber)\n",
        "    plt.semilogy(snrs, bers, '-o', label=f\"{m}ASK\")\n",
        "\n",
        "plt.grid()\n",
        "plt.xlabel(\"SNR (dB)\")\n",
        "plt.ylabel(\"BER\")\n",
        "plt.legend()\n",
        "plt.tight_layout()\n",
        "plt.ylim(top=1)\n",
        "plt.savefig(\"PSK_RRSK_rot2.png\")\n",
        "plt.savefig(\"PSK_RRST_rot2.pdf\")"
      ],
      "metadata": {
        "colab": {
          "base_uri": "https://localhost:8080/",
          "height": 1000
        },
        "id": "Hh6OVKOe8GAb",
        "outputId": "601dcaf6-98cd-4f2d-ebd5-394a9d18e002"
      },
      "execution_count": 89,
      "outputs": [
        {
          "output_type": "stream",
          "name": "stdout",
          "text": [
            "[0, 64, 0.94414, 0.42236833333333335]\n",
            "[2, 64, 0.93023, 0.40208916666666666]\n",
            "[4, 64, 0.913435, 0.37905666666666665]\n",
            "[6, 64, 0.889655, 0.35416583333333335]\n",
            "[8, 64, 0.861225, 0.32764666666666664]\n",
            "[10, 64, 0.82749, 0.3020583333333333]\n",
            "[12, 64, 0.78102, 0.275625]\n",
            "[14, 64, 0.729, 0.2488125]\n",
            "[16, 64, 0.660225, 0.22014416666666667]\n",
            "[18, 64, 0.581515, 0.19176166666666666]\n",
            "[20, 64, 0.48916, 0.16048833333333334]\n",
            "[22, 64, 0.383445, 0.12595333333333333]\n",
            "[24, 64, 0.271815, 0.08941666666666667]\n",
            "[26, 64, 0.166085, 0.05428416666666667]\n",
            "[28, 64, 0.081665, 0.026965]\n",
            "[30, 64, 0.02815, 0.0091625]\n",
            "[32, 64, 0.00548, 0.0017991666666666666]\n",
            "[34, 64, 0.00048, 0.00016166666666666668]\n",
            "[36, 64, 1e-05, 2.5e-06]\n",
            "[38, 64, 0.0, 0.0]\n",
            "[0, 64, 0.98827, 0.5518883333333333]\n",
            "[2, 64, 0.984515, 0.5327183333333333]\n",
            "[4, 64, 0.98164, 0.5165233333333333]\n",
            "[6, 64, 0.977105, 0.50051]\n",
            "[8, 64, 0.97267, 0.4828558333333333]\n",
            "[10, 64, 0.96641, 0.46578583333333334]\n",
            "[12, 64, 0.95996, 0.448205]\n",
            "[14, 64, 0.951445, 0.4290775]\n",
            "[16, 64, 0.938805, 0.40790333333333334]\n",
            "[18, 64, 0.92405, 0.3869883333333333]\n",
            "[20, 64, 0.906855, 0.36378083333333333]\n",
            "[22, 64, 0.88554, 0.34183583333333334]\n",
            "[24, 64, 0.858665, 0.3189033333333333]\n",
            "[26, 64, 0.826145, 0.29549166666666665]\n",
            "[28, 64, 0.787005, 0.27212833333333336]\n",
            "[30, 64, 0.74194, 0.24855083333333333]\n",
            "[32, 64, 0.687235, 0.22514083333333335]\n",
            "[34, 64, 0.63369, 0.2043625]\n",
            "[36, 64, 0.58028, 0.18505416666666666]\n",
            "[38, 64, 0.53406, 0.169325]\n",
            "[40, 64, 0.507245, 0.16141916666666667]\n",
            "[42, 64, 0.496265, 0.15714083333333334]\n",
            "[44, 64, 0.491705, 0.15612]\n",
            "[46, 64, 0.49226, 0.15621583333333333]\n",
            "[48, 64, 0.49273, 0.1566025]\n",
            "[50, 64, 0.491715, 0.1559175]\n",
            "[52, 64, 0.49327, 0.1565175]\n",
            "[54, 64, 0.491005, 0.1560075]\n",
            "[0, 16, 0.77573, 0.38087]\n",
            "[2, 16, 0.727075, 0.34960875]\n",
            "[4, 16, 0.66087, 0.31215375]\n",
            "[6, 16, 0.58258, 0.2727075]\n",
            "[8, 16, 0.485695, 0.22663875]\n",
            "[10, 16, 0.38333, 0.1794]\n",
            "[12, 16, 0.271845, 0.12723]\n",
            "[14, 16, 0.166815, 0.07824625]\n",
            "[16, 16, 0.08086, 0.0377875]\n",
            "[18, 16, 0.028275, 0.01326875]\n",
            "[20, 16, 0.005645, 0.00254]\n",
            "[22, 16, 0.000535, 0.00027625]\n",
            "[24, 16, 5e-06, 1.25e-06]\n",
            "[26, 16, 0.0, 0.0]\n",
            "[0, 16, 0.94915, 0.57169]\n",
            "[2, 16, 0.937335, 0.54352875]\n",
            "[4, 16, 0.922505, 0.5191025]\n",
            "[6, 16, 0.906705, 0.4923875]\n",
            "[8, 16, 0.88579, 0.46775]\n",
            "[10, 16, 0.86154, 0.440525]\n",
            "[12, 16, 0.835155, 0.41288625]\n",
            "[14, 16, 0.79916, 0.383745]\n",
            "[16, 16, 0.7581, 0.35291875]\n",
            "[18, 16, 0.709775, 0.321835]\n",
            "[20, 16, 0.654555, 0.29065875]\n",
            "[22, 16, 0.5998, 0.26282125]\n",
            "[24, 16, 0.545185, 0.23712375]\n",
            "[26, 16, 0.50487, 0.21917625]\n",
            "[28, 16, 0.47847, 0.20753125]\n",
            "[30, 16, 0.467335, 0.2025475]\n",
            "[32, 16, 0.466225, 0.20223125]\n",
            "[34, 16, 0.466475, 0.20242875]\n",
            "[36, 16, 0.467725, 0.2025]\n",
            "[38, 16, 0.46694, 0.20252375]\n",
            "[40, 16, 0.46658, 0.2026]\n",
            "[42, 16, 0.467265, 0.202345]\n",
            "[44, 16, 0.467295, 0.2024475]\n",
            "[46, 16, 0.4675, 0.20244625]\n",
            "[48, 16, 0.468865, 0.2025825]\n",
            "[50, 16, 0.46766, 0.20246]\n",
            "[52, 16, 0.46821, 0.2032775]\n",
            "[54, 16, 0.4684, 0.20363]\n",
            "[0, 4, 0.29124, 0.21189]\n",
            "[2, 4, 0.19693, 0.1452325]\n",
            "[4, 4, 0.110215, 0.081545]\n",
            "[6, 4, 0.04552, 0.03389]\n",
            "[8, 4, 0.0121, 0.0091075]\n",
            "[10, 4, 0.0015, 0.00112]\n",
            "[12, 4, 8e-05, 5.25e-05]\n",
            "[14, 4, 0.0, 0.0]\n",
            "[0, 4, 0.773525, 0.603095]\n",
            "[2, 4, 0.71944, 0.543925]\n",
            "[4, 4, 0.663285, 0.489525]\n",
            "[6, 4, 0.604525, 0.43696]\n",
            "[8, 4, 0.541055, 0.3827525]\n",
            "[10, 4, 0.47692, 0.33294]\n",
            "[12, 4, 0.42522, 0.292085]\n",
            "[14, 4, 0.38721, 0.261535]\n",
            "[16, 4, 0.366685, 0.2450025]\n",
            "[18, 4, 0.36376, 0.2426925]\n",
            "[20, 4, 0.36509, 0.2432925]\n",
            "[22, 4, 0.36812, 0.2461075]\n",
            "[24, 4, 0.368675, 0.2459475]\n",
            "[26, 4, 0.368575, 0.2456925]\n",
            "[28, 4, 0.371005, 0.2473325]\n",
            "[30, 4, 0.37064, 0.2470625]\n",
            "[32, 4, 0.3726, 0.2478975]\n",
            "[34, 4, 0.37478, 0.2502675]\n",
            "[36, 4, 0.3736, 0.2492325]\n",
            "[38, 4, 0.37444, 0.2495925]\n",
            "[40, 4, 0.37469, 0.2494725]\n",
            "[42, 4, 0.3735, 0.2487325]\n",
            "[44, 4, 0.37278, 0.2484725]\n",
            "[46, 4, 0.374745, 0.2500075]\n",
            "[48, 4, 0.378, 0.25202]\n",
            "[50, 4, 0.373355, 0.248715]\n",
            "[52, 4, 0.37392, 0.2498175]\n",
            "[54, 4, 0.37481, 0.249295]\n"
          ]
        },
        {
          "output_type": "display_data",
          "data": {
            "image/png": "[encoded data removed]",
            "text/plain": [
              "<Figure size 432x288 with 1 Axes>"
            ]
          },
          "metadata": {
            "needs_background": "light"
          }
        }
      ]
    },
    {
      "cell_type": "code",
      "source": [
        "size = 200000\n",
        "for m in [64, 16, 4]:\n",
        "    snrs = []\n",
        "    bers = []\n",
        "    for snr in range(0, 55, 2):\n",
        "        ser, ber = psk_test(m, snr, size)\n",
        "        if verbose:\n",
        "            print([snr, m, ser, ber])\n",
        "        if ber < 1e-8:\n",
        "            break\n",
        "        snrs.append(snr)\n",
        "        bers.append(ber)\n",
        "    plt.semilogy(snrs, bers, '-o', label=f\"{m}PSK\")\n",
        "\n",
        "    #ASK\n",
        "    snrs = []\n",
        "    bers = []\n",
        "    for snr in range(0, 55, 2):\n",
        "        ser, ber = ask_test(m, snr, size, rotation_num = 3)\n",
        "        if verbose:\n",
        "            print([snr, m, ser, ber])\n",
        "        if ber < 1e-6:\n",
        "            break\n",
        "        snrs.append(snr)\n",
        "        bers.append(ber)\n",
        "    plt.semilogy(snrs, bers, '-o', label=f\"{m}ASK\")\n",
        "\n",
        "plt.grid()\n",
        "plt.xlabel(\"SNR (dB)\")\n",
        "plt.ylabel(\"BER\")\n",
        "plt.legend()\n",
        "plt.tight_layout()\n",
        "plt.ylim(top=1)\n",
        "plt.savefig(\"PSK_RRST_rot3.png\")\n",
        "plt.savefig(\"PSK_RRST_rot3.pdf\")"
      ],
      "metadata": {
        "colab": {
          "base_uri": "https://localhost:8080/",
          "height": 1000
        },
        "id": "ofFhyOa6lgtX",
        "outputId": "c61e911d-eac0-45f4-d638-4c4581159c4d"
      },
      "execution_count": 90,
      "outputs": [
        {
          "output_type": "stream",
          "name": "stdout",
          "text": [
            "[0, 64, 0.94261, 0.42167]\n",
            "[2, 64, 0.92955, 0.4016633333333333]\n",
            "[4, 64, 0.912445, 0.37952583333333334]\n",
            "[6, 64, 0.89024, 0.35425083333333335]\n",
            "[8, 64, 0.86099, 0.32776916666666667]\n",
            "[10, 64, 0.82666, 0.30265416666666667]\n",
            "[12, 64, 0.781695, 0.2758525]\n",
            "[14, 64, 0.72958, 0.24966333333333332]\n",
            "[16, 64, 0.66342, 0.22159416666666668]\n",
            "[18, 64, 0.58204, 0.19148666666666667]\n",
            "[20, 64, 0.486805, 0.16003833333333334]\n",
            "[22, 64, 0.381295, 0.12485916666666666]\n",
            "[24, 64, 0.27015, 0.088215]\n",
            "[26, 64, 0.16668, 0.054968333333333334]\n",
            "[28, 64, 0.08179, 0.027090833333333335]\n",
            "[30, 64, 0.02863, 0.009375]\n",
            "[32, 64, 0.005785, 0.0018866666666666667]\n",
            "[34, 64, 0.00055, 0.00017666666666666666]\n",
            "[36, 64, 2e-05, 6.666666666666667e-06]\n",
            "[38, 64, 0.0, 0.0]\n",
            "[0, 64, 0.986615, 0.5441841666666667]\n",
            "[2, 64, 0.983565, 0.52659]\n",
            "[4, 64, 0.979665, 0.5079025]\n",
            "[6, 64, 0.97494, 0.4917916666666667]\n",
            "[8, 64, 0.96924, 0.47385083333333333]\n",
            "[10, 64, 0.9618, 0.45410666666666666]\n",
            "[12, 64, 0.95296, 0.434945]\n",
            "[14, 64, 0.94339, 0.41434583333333336]\n",
            "[16, 64, 0.9296, 0.3938125]\n",
            "[18, 64, 0.91273, 0.3713575]\n",
            "[20, 64, 0.891765, 0.34894916666666664]\n",
            "[22, 64, 0.866375, 0.32485]\n",
            "[24, 64, 0.837025, 0.3031175]\n",
            "[26, 64, 0.79894, 0.27821416666666665]\n",
            "[28, 64, 0.75562, 0.25493083333333333]\n",
            "[30, 64, 0.70508, 0.23157583333333334]\n",
            "[32, 64, 0.647995, 0.20926666666666666]\n",
            "[34, 64, 0.593225, 0.18944]\n",
            "[36, 64, 0.54619, 0.17355583333333333]\n",
            "[38, 64, 0.51496, 0.16346833333333333]\n",
            "[40, 64, 0.49609, 0.15735]\n",
            "[42, 64, 0.490735, 0.15599833333333332]\n",
            "[44, 64, 0.49115, 0.1556875]\n",
            "[46, 64, 0.49343, 0.15661166666666668]\n",
            "[48, 64, 0.4893, 0.1552925]\n",
            "[50, 64, 0.49258, 0.15646333333333334]\n",
            "[52, 64, 0.491795, 0.15634666666666666]\n",
            "[54, 64, 0.49079, 0.1563775]\n",
            "[0, 16, 0.778105, 0.38167875]\n",
            "[2, 16, 0.72726, 0.35014625]\n",
            "[4, 16, 0.662325, 0.31324875]\n",
            "[6, 16, 0.58388, 0.27308125]\n",
            "[8, 16, 0.487225, 0.22714]\n",
            "[10, 16, 0.384745, 0.1803825]\n",
            "[12, 16, 0.272455, 0.1276375]\n",
            "[14, 16, 0.167695, 0.079015]\n",
            "[16, 16, 0.081485, 0.0384225]\n",
            "[18, 16, 0.028465, 0.01331]\n",
            "[20, 16, 0.00582, 0.0026925]\n",
            "[22, 16, 0.00058, 0.00026125]\n",
            "[24, 16, 5e-06, 1.25e-06]\n",
            "[26, 16, 0.0, 0.0]\n",
            "[0, 16, 0.94541, 0.55999375]\n",
            "[2, 16, 0.931955, 0.53247]\n",
            "[4, 16, 0.914735, 0.5055075]\n",
            "[6, 16, 0.89409, 0.4783575]\n",
            "[8, 16, 0.87143, 0.45004375]\n",
            "[10, 16, 0.84332, 0.42160375]\n",
            "[12, 16, 0.80897, 0.39201625]\n",
            "[14, 16, 0.769455, 0.36217625]\n",
            "[16, 16, 0.723185, 0.33006]\n",
            "[18, 16, 0.672235, 0.30062]\n",
            "[20, 16, 0.611595, 0.26832375]\n",
            "[22, 16, 0.556925, 0.2427025]\n",
            "[24, 16, 0.513595, 0.22245125]\n",
            "[26, 16, 0.48328, 0.20962]\n",
            "[28, 16, 0.468345, 0.20290875]\n",
            "[30, 16, 0.46464, 0.2015375]\n",
            "[32, 16, 0.46624, 0.2020625]\n",
            "[34, 16, 0.467645, 0.20222125]\n",
            "[36, 16, 0.466875, 0.20285125]\n",
            "[38, 16, 0.46556, 0.20126]\n",
            "[40, 16, 0.46635, 0.20195625]\n",
            "[42, 16, 0.466515, 0.2020675]\n",
            "[44, 16, 0.467805, 0.2028]\n",
            "[46, 16, 0.47006, 0.204005]\n",
            "[48, 16, 0.467175, 0.20248875]\n",
            "[50, 16, 0.468775, 0.20344]\n",
            "[52, 16, 0.468955, 0.2036025]\n",
            "[54, 16, 0.467965, 0.20260375]\n",
            "[0, 4, 0.2918, 0.2128325]\n",
            "[2, 4, 0.196615, 0.14475]\n",
            "[4, 4, 0.109405, 0.08116]\n",
            "[6, 4, 0.04548, 0.0338375]\n",
            "[8, 4, 0.011915, 0.0087975]\n",
            "[10, 4, 0.00163, 0.0012225]\n",
            "[12, 4, 0.0001, 7.75e-05]\n",
            "[14, 4, 0.0, 0.0]\n",
            "[0, 4, 0.74959, 0.5725425]\n",
            "[2, 4, 0.6878, 0.5113275]\n",
            "[4, 4, 0.62234, 0.4517125]\n",
            "[6, 4, 0.553865, 0.39372]\n",
            "[8, 4, 0.48715, 0.34134]\n",
            "[10, 4, 0.43123, 0.2972075]\n",
            "[12, 4, 0.389825, 0.2645375]\n",
            "[14, 4, 0.36544, 0.2454075]\n",
            "[16, 4, 0.360845, 0.24121]\n",
            "[18, 4, 0.361635, 0.2414225]\n",
            "[20, 4, 0.36516, 0.2434725]\n",
            "[22, 4, 0.366605, 0.244205]\n",
            "[24, 4, 0.367995, 0.245915]\n",
            "[26, 4, 0.36881, 0.246365]\n",
            "[28, 4, 0.372205, 0.248115]\n",
            "[30, 4, 0.372385, 0.2479125]\n",
            "[32, 4, 0.36993, 0.246575]\n",
            "[34, 4, 0.3739, 0.24992]\n",
            "[36, 4, 0.372195, 0.247965]\n",
            "[38, 4, 0.37518, 0.250165]\n",
            "[40, 4, 0.373755, 0.2492075]\n",
            "[42, 4, 0.37328, 0.2489675]\n",
            "[44, 4, 0.37492, 0.249915]\n",
            "[46, 4, 0.373785, 0.2493225]\n",
            "[48, 4, 0.37357, 0.2488025]\n",
            "[50, 4, 0.374305, 0.249685]\n",
            "[52, 4, 0.376165, 0.250995]\n",
            "[54, 4, 0.372815, 0.2478175]\n"
          ]
        },
        {
          "output_type": "display_data",
          "data": {
            "image/png": "[encoded data removed]",
            "text/plain": [
              "<Figure size 432x288 with 1 Axes>"
            ]
          },
          "metadata": {
            "needs_background": "light"
          }
        }
      ]
    }
  ],
  "metadata": {
    "anaconda-cloud": {},
    "kernelspec": {
      "display_name": "Python 3",
      "language": "python",
      "name": "python3"
    },
    "language_info": {
      "codemirror_mode": {
        "name": "ipython",
        "version": 3
      },
      "file_extension": ".py",
      "mimetype": "text/x-python",
      "name": "python",
      "nbconvert_exporter": "python",
      "pygments_lexer": "ipython3",
      "version": "3.6.9"
    },
    "colab": {
      "name": "RRSK.ipynb",
      "provenance": [],
      "collapsed_sections": []
    }
  },
  "nbformat": 4,
  "nbformat_minor": 0
}