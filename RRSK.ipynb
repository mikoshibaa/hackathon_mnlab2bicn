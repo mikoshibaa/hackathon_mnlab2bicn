{
  "cells": [
    {
      "cell_type": "markdown",
      "metadata": {
        "id": "QvdpGFyIlrAY"
      },
      "source": [
        "Sample script for MNLab2BICN.\n",
        "\n",
        "メディアネットワーク実験IIB 項目Iで利用するサンプル．\n",
        "\n",
        "PSK および QAM は適切に実装されていません．`要修正`を要修正です．"
      ]
    },
    {
      "cell_type": "markdown",
      "metadata": {
        "id": "35KN_92MlrAf"
      },
      "source": [
        "必要なファイルを`github`から取り出す．"
      ]
    },
    {
      "cell_type": "code",
      "execution_count": 1,
      "metadata": {
        "id": "pDfdFem-lrAh",
        "colab": {
          "base_uri": "https://localhost:8080/"
        },
        "outputId": "d3b078c9-724c-4133-d8e3-cab7137c7b95"
      },
      "outputs": [
        {
          "output_type": "stream",
          "name": "stdout",
          "text": [
            "Cloning into 'mnlab2bicn'...\n",
            "remote: Enumerating objects: 115, done.\u001b[K\n",
            "remote: Counting objects: 100% (115/115), done.\u001b[K\n",
            "remote: Compressing objects: 100% (70/70), done.\u001b[K\n",
            "remote: Total 115 (delta 62), reused 76 (delta 36), pack-reused 0\u001b[K\n",
            "Receiving objects: 100% (115/115), 28.66 KiB | 7.17 MiB/s, done.\n",
            "Resolving deltas: 100% (62/62), done.\n"
          ]
        }
      ],
      "source": [
        "!test -d mnlab2bicn && (cd mnlab2bicn ; git pull) || git clone https://github.com/htsutsui/mnlab2bicn/\n",
        "!cp mnlab2bicn/mnlab2bicn.py .\n",
        "!cp mnlab2bicn/gray.py ."
      ]
    },
    {
      "cell_type": "markdown",
      "metadata": {
        "id": "7PV5gWjIlrAj"
      },
      "source": [
        "`mnlab2bicn`が依存する`gmpy2` (BER計算を高速化する)をインストールする．\n",
        "なお，`gmpy2`が無くてもBER計算は可能(若干遅くなる)なので，エラーが生じる場合は無視すること．"
      ]
    },
    {
      "cell_type": "code",
      "execution_count": 2,
      "metadata": {
        "scrolled": true,
        "id": "xXnX1R_TlrAl",
        "colab": {
          "base_uri": "https://localhost:8080/"
        },
        "outputId": "da097f36-b340-4109-ed54-88e886527951"
      },
      "outputs": [
        {
          "output_type": "stream",
          "name": "stdout",
          "text": [
            "\r0% [Working]\r            \rGet:1 http://security.ubuntu.com/ubuntu bionic-security InRelease [88.7 kB]\n",
            "\r0% [Connecting to archive.ubuntu.com (91.189.88.152)] [1 InRelease 14.2 kB/88.7\r                                                                               \rGet:2 https://cloud.r-project.org/bin/linux/ubuntu bionic-cran40/ InRelease [3,626 B]\n",
            "\r0% [Connecting to archive.ubuntu.com (91.189.88.152)] [1 InRelease 80.8 kB/88.7\r0% [Connecting to archive.ubuntu.com (91.189.88.152)] [1 InRelease 88.7 kB/88.7\r0% [Connecting to archive.ubuntu.com (91.189.88.152)] [Connecting to ppa.launch\r0% [2 InRelease gpgv 3,626 B] [Connecting to archive.ubuntu.com (91.189.88.152)\r                                                                               \rIgn:3 https://developer.download.nvidia.com/compute/cuda/repos/ubuntu1804/x86_64  InRelease\n",
            "\r0% [2 InRelease gpgv 3,626 B] [Waiting for headers] [Waiting for headers] [Wait\r                                                                               \rGet:4 http://ppa.launchpad.net/c2d4u.team/c2d4u4.0+/ubuntu bionic InRelease [15.9 kB]\n",
            "\r0% [2 InRelease gpgv 3,626 B] [Waiting for headers] [4 InRelease 2,572 B/15.9 k\r                                                                               \rHit:5 http://archive.ubuntu.com/ubuntu bionic InRelease\n",
            "\r0% [2 InRelease gpgv 3,626 B] [4 InRelease 8,364 B/15.9 kB 53%] [Waiting for he\r                                                                               \rIgn:6 https://developer.download.nvidia.com/compute/machine-learning/repos/ubuntu1804/x86_64  InRelease\n",
            "\r0% [2 InRelease gpgv 3,626 B] [Waiting for headers] [4 InRelease 14.2 kB/15.9 k\r                                                                               \rGet:7 https://developer.download.nvidia.com/compute/cuda/repos/ubuntu1804/x86_64  Release [696 B]\n",
            "Hit:8 https://developer.download.nvidia.com/compute/machine-learning/repos/ubuntu1804/x86_64  Release\n",
            "Get:9 http://archive.ubuntu.com/ubuntu bionic-updates InRelease [88.7 kB]\n",
            "Get:10 https://developer.download.nvidia.com/compute/cuda/repos/ubuntu1804/x86_64  Release.gpg [836 B]\n",
            "Hit:11 http://ppa.launchpad.net/cran/libgit2/ubuntu bionic InRelease\n",
            "Get:12 http://archive.ubuntu.com/ubuntu bionic-backports InRelease [74.6 kB]\n",
            "Hit:13 http://ppa.launchpad.net/deadsnakes/ppa/ubuntu bionic InRelease\n",
            "Get:14 http://security.ubuntu.com/ubuntu bionic-security/restricted amd64 Packages [725 kB]\n",
            "Get:15 http://security.ubuntu.com/ubuntu bionic-security/universe amd64 Packages [1,459 kB]\n",
            "Hit:16 http://ppa.launchpad.net/graphics-drivers/ppa/ubuntu bionic InRelease\n",
            "Get:17 http://security.ubuntu.com/ubuntu bionic-security/main amd64 Packages [2,498 kB]\n",
            "Get:18 http://ppa.launchpad.net/c2d4u.team/c2d4u4.0+/ubuntu bionic/main Sources [1,822 kB]\n",
            "Get:20 https://developer.download.nvidia.com/compute/cuda/repos/ubuntu1804/x86_64  Packages [867 kB]\n",
            "Get:21 http://ppa.launchpad.net/c2d4u.team/c2d4u4.0+/ubuntu bionic/main amd64 Packages [934 kB]\n",
            "Get:22 http://archive.ubuntu.com/ubuntu bionic-updates/main amd64 Packages [2,935 kB]\n",
            "Get:23 http://archive.ubuntu.com/ubuntu bionic-updates/restricted amd64 Packages [758 kB]\n",
            "Get:24 http://archive.ubuntu.com/ubuntu bionic-updates/universe amd64 Packages [2,238 kB]\n",
            "Fetched 14.5 MB in 4s (4,023 kB/s)\n",
            "Reading package lists... Done\n",
            "Reading package lists... Done\n",
            "Building dependency tree       \n",
            "Reading state information... Done\n",
            "The following additional packages will be installed:\n",
            "  libgmpxx4ldbl\n",
            "Suggested packages:\n",
            "  gmp-doc libgmp10-doc libmpfr-doc\n",
            "The following NEW packages will be installed:\n",
            "  libgmp-dev libgmpxx4ldbl libmpc-dev libmpfr-dev\n",
            "0 upgraded, 4 newly installed, 0 to remove and 43 not upgraded.\n",
            "Need to get 625 kB of archives.\n",
            "After this operation, 3,178 kB of additional disk space will be used.\n",
            "Get:1 http://archive.ubuntu.com/ubuntu bionic/main amd64 libgmpxx4ldbl amd64 2:6.1.2+dfsg-2 [8,964 B]\n",
            "Get:2 http://archive.ubuntu.com/ubuntu bionic/main amd64 libgmp-dev amd64 2:6.1.2+dfsg-2 [316 kB]\n",
            "Get:3 http://archive.ubuntu.com/ubuntu bionic/main amd64 libmpfr-dev amd64 4.0.1-1 [249 kB]\n",
            "Get:4 http://archive.ubuntu.com/ubuntu bionic/main amd64 libmpc-dev amd64 1.1.0-1 [50.5 kB]\n",
            "Fetched 625 kB in 1s (1,043 kB/s)\n",
            "debconf: unable to initialize frontend: Dialog\n",
            "debconf: (No usable dialog-like program is installed, so the dialog based frontend cannot be used. at /usr/share/perl5/Debconf/FrontEnd/Dialog.pm line 76, <> line 4.)\n",
            "debconf: falling back to frontend: Readline\n",
            "debconf: unable to initialize frontend: Readline\n",
            "debconf: (This frontend requires a controlling tty.)\n",
            "debconf: falling back to frontend: Teletype\n",
            "dpkg-preconfigure: unable to re-open stdin: \n",
            "Selecting previously unselected package libgmpxx4ldbl:amd64.\n",
            "(Reading database ... 155229 files and directories currently installed.)\n",
            "Preparing to unpack .../libgmpxx4ldbl_2%3a6.1.2+dfsg-2_amd64.deb ...\n",
            "Unpacking libgmpxx4ldbl:amd64 (2:6.1.2+dfsg-2) ...\n",
            "Selecting previously unselected package libgmp-dev:amd64.\n",
            "Preparing to unpack .../libgmp-dev_2%3a6.1.2+dfsg-2_amd64.deb ...\n",
            "Unpacking libgmp-dev:amd64 (2:6.1.2+dfsg-2) ...\n",
            "Selecting previously unselected package libmpfr-dev:amd64.\n",
            "Preparing to unpack .../libmpfr-dev_4.0.1-1_amd64.deb ...\n",
            "Unpacking libmpfr-dev:amd64 (4.0.1-1) ...\n",
            "Selecting previously unselected package libmpc-dev:amd64.\n",
            "Preparing to unpack .../libmpc-dev_1.1.0-1_amd64.deb ...\n",
            "Unpacking libmpc-dev:amd64 (1.1.0-1) ...\n",
            "Setting up libgmpxx4ldbl:amd64 (2:6.1.2+dfsg-2) ...\n",
            "Setting up libgmp-dev:amd64 (2:6.1.2+dfsg-2) ...\n",
            "Setting up libmpfr-dev:amd64 (4.0.1-1) ...\n",
            "Setting up libmpc-dev:amd64 (1.1.0-1) ...\n",
            "Processing triggers for libc-bin (2.27-3ubuntu1.3) ...\n",
            "/sbin/ldconfig.real: /usr/local/lib/python3.7/dist-packages/ideep4py/lib/libmkldnn.so.0 is not a symbolic link\n",
            "\n",
            "Collecting gmpy2\n",
            "  Downloading gmpy2-2.1.2-cp37-cp37m-manylinux_2_17_x86_64.manylinux2014_x86_64.whl (3.6 MB)\n",
            "\u001b[K     |████████████████████████████████| 3.6 MB 28.7 MB/s \n",
            "\u001b[?25hInstalling collected packages: gmpy2\n",
            "Successfully installed gmpy2-2.1.2\n"
          ]
        }
      ],
      "source": [
        "!sudo apt-get update\n",
        "!sudo apt-get install -y libgmp-dev libmpfr-dev libmpc-dev\n",
        "!pip install gmpy2"
      ]
    },
    {
      "cell_type": "markdown",
      "metadata": {
        "id": "L9LU32hAlrAl"
      },
      "source": [
        "NumPy と Matplotlib を使うので`import`する．"
      ]
    },
    {
      "cell_type": "code",
      "execution_count": 3,
      "metadata": {
        "id": "vcBC8__rlrAm"
      },
      "outputs": [],
      "source": [
        "import matplotlib.pyplot as plt\n",
        "import numpy as np"
      ]
    },
    {
      "cell_type": "markdown",
      "metadata": {
        "id": "hQ7lQ4-JlrAn"
      },
      "source": [
        "実験で使用するあらかじめ用意されている関数を`import`する．"
      ]
    },
    {
      "cell_type": "code",
      "execution_count": 4,
      "metadata": {
        "id": "dvFo-VF-lrAo"
      },
      "outputs": [],
      "source": [
        "from mnlab2bicn import awgn, calc_ser, calc_ber, \\\n",
        "    int2gray, gray2int, scatter_plot"
      ]
    },
    {
      "cell_type": "markdown",
      "metadata": {
        "id": "FX40CPdTlrAp"
      },
      "source": [
        "このscript中で利用するdebug用の変数．"
      ]
    },
    {
      "cell_type": "code",
      "execution_count": 5,
      "metadata": {
        "id": "NYxZ0JFZlrAq"
      },
      "outputs": [],
      "source": [
        "verbose = True # True だと for loop の処理の状況(進み具合)が確認できる\n",
        "verbose_awgn = False"
      ]
    },
    {
      "cell_type": "markdown",
      "metadata": {
        "id": "qsLri4b9lrAq"
      },
      "source": [
        "PSKのシミュレーションを行う関数を定義する．"
      ]
    },
    {
      "cell_type": "code",
      "execution_count": 6,
      "metadata": {
        "id": "GwIIbEXklrAq"
      },
      "outputs": [],
      "source": [
        "def psk_test(m_level, i_snr, i_size, plot=False, gray=False):\n",
        "    \"\"\"PSK test\n",
        "\n",
        "    Parameters\n",
        "    ----------\n",
        "    m_level: modulation level (integer)\n",
        "    i_snr: SNR in dB\n",
        "    i_size: number of samples\n",
        "    plot: optional. if True, scatter plot will be generated.\n",
        "    gray: optional. if True, gray code is used.\n",
        "\n",
        "    Returns\n",
        "    -------\n",
        "    (SER, BER)\n",
        "    \"\"\"\n",
        "    src = np.random.randint(m_level, size=i_size)\n",
        "\n",
        "    x = int2gray(src) if gray else src\n",
        "\n",
        "    # Start of 要修正\n",
        "    y = np.exp(1j*np.pi*2/m_level*x)\n",
        "    # End of 要修正\n",
        "\n",
        "    y_noisy = awgn(y, i_snr, verbose_awgn)\n",
        "\n",
        "    if plot:\n",
        "        scatter_plot(y_noisy, f\"PSK_{m_level}_{i_snr}_{i_size}\")\n",
        "\n",
        "    # Start of 要修正\n",
        "    z = np.angle(y_noisy)\n",
        "    z = z/(np.pi*2/m_level)\n",
        "    z = z.round()\n",
        "    z = np.array(z.round(), dtype='int')\n",
        "    z = np.where(z<0, z+m_level, z)\n",
        "    # End of 要修正\n",
        "\n",
        "    z = np.array(z, dtype='int')\n",
        "\n",
        "    dst = gray2int(z) if gray else z\n",
        "\n",
        "    return (calc_ser(src, dst), calc_ber(src, dst, m_level))"
      ]
    },
    {
      "cell_type": "markdown",
      "source": [
        "## I)PSKで6角形に配置してみます"
      ],
      "metadata": {
        "id": "wxNt3cYmhM3T"
      }
    },
    {
      "cell_type": "code",
      "source": [
        "psk_test(m_level = 6, i_snr = 20, i_size = 20000, plot=True)"
      ],
      "metadata": {
        "colab": {
          "base_uri": "https://localhost:8080/",
          "height": 314
        },
        "id": "MRWwEMrCkMYn",
        "outputId": "d9ec5090-9ded-4b4c-f261-f1d9ba67c954"
      },
      "execution_count": 7,
      "outputs": [
        {
          "output_type": "execute_result",
          "data": {
            "text/plain": [
              "(0.0, 0.0)"
            ]
          },
          "metadata": {},
          "execution_count": 7
        },
        {
          "output_type": "display_data",
          "data": {
            "image/png": "[encoded data removed]",
            "text/plain": [
              "<Figure size 432x288 with 1 Axes>"
            ]
          },
          "metadata": {
            "needs_background": "light"
          }
        }
      ]
    },
    {
      "cell_type": "markdown",
      "source": [
        "### 信号が6角形になっているのが分かると思います．\n",
        "### この6PSKの性能をほかのPSKと比べてみましょう,SNR-BERプロットを行ってみます．"
      ],
      "metadata": {
        "id": "GIvjrut-kyDb"
      }
    },
    {
      "cell_type": "code",
      "source": [
        "size = 500000\n",
        "for m in [64, 16, 6, 4]:\n",
        "    snrs = []\n",
        "    bers = []\n",
        "    for snr in range(0, 55, 2):\n",
        "        ser, ber = psk_test(m, snr, size)\n",
        "        if verbose:\n",
        "            print([snr, m, ser, ber])\n",
        "        if ber < 1e-6:\n",
        "            break\n",
        "        snrs.append(snr)\n",
        "        bers.append(ber)\n",
        "    plt.semilogy(snrs, bers, '-o', label=f\"{m}PSK\")\n",
        "    snrs = []\n",
        "    bers = []\n",
        "    for snr in range(0, 55, 2):\n",
        "        ser, ber = psk_test(m, snr, size, gray=True)\n",
        "        if verbose:\n",
        "            print([snr, m, ser, ber])\n",
        "        if ber < 1e-6:\n",
        "            break\n",
        "        snrs.append(snr)\n",
        "        bers.append(ber)\n",
        "    plt.semilogy(snrs, bers, '-o', label=f\"{m}PSK gray\")\n",
        "\n",
        "plt.grid()\n",
        "plt.xlabel(\"SNR (dB)\")\n",
        "plt.ylabel(\"BER\")\n",
        "plt.legend()\n",
        "plt.tight_layout()\n",
        "plt.ylim(top=1)\n",
        "plt.savefig(\"PSK_gray_.png\")\n",
        "plt.savefig(\"PSK_gray_.pdf\")"
      ],
      "metadata": {
        "colab": {
          "base_uri": "https://localhost:8080/",
          "height": 1000
        },
        "id": "t7Uey3k_lLo3",
        "outputId": "c1266747-78f1-4913-e2d8-9037d9f03085"
      },
      "execution_count": 8,
      "outputs": [
        {
          "output_type": "stream",
          "name": "stdout",
          "text": [
            "[0, 64, 0.943118, 0.42146633333333333]\n",
            "[2, 64, 0.929348, 0.40127]\n",
            "[4, 64, 0.912166, 0.378618]\n",
            "[6, 64, 0.890272, 0.35442066666666666]\n",
            "[8, 64, 0.861706, 0.328484]\n",
            "[10, 64, 0.82578, 0.302485]\n",
            "[12, 64, 0.781844, 0.27591466666666664]\n",
            "[14, 64, 0.72827, 0.24926066666666666]\n",
            "[16, 64, 0.662478, 0.22074233333333335]\n",
            "[18, 64, 0.581172, 0.19091566666666668]\n",
            "[20, 64, 0.487904, 0.160103]\n",
            "[22, 64, 0.383428, 0.125633]\n",
            "[24, 64, 0.271652, 0.08916866666666666]\n",
            "[26, 64, 0.166294, 0.054485]\n",
            "[28, 64, 0.08076, 0.026646666666666666]\n",
            "[30, 64, 0.028078, 0.009149]\n",
            "[32, 64, 0.005722, 0.0018796666666666666]\n",
            "[34, 64, 0.000508, 0.000169]\n",
            "[36, 64, 2e-05, 7e-06]\n",
            "[38, 64, 0.0, 0.0]\n",
            "[0, 64, 0.943386, 0.381643]\n",
            "[2, 64, 0.929654, 0.35784133333333334]\n",
            "[4, 64, 0.911882, 0.331146]\n",
            "[6, 64, 0.890262, 0.303998]\n",
            "[8, 64, 0.861834, 0.27645933333333333]\n",
            "[10, 64, 0.826024, 0.24867866666666666]\n",
            "[12, 64, 0.782956, 0.221386]\n",
            "[14, 64, 0.728566, 0.193931]\n",
            "[16, 64, 0.661436, 0.16648466666666667]\n",
            "[18, 64, 0.580504, 0.13835133333333333]\n",
            "[20, 64, 0.487686, 0.11093233333333333]\n",
            "[22, 64, 0.383362, 0.084976]\n",
            "[24, 64, 0.27104, 0.059490666666666664]\n",
            "[26, 64, 0.166132, 0.036333333333333336]\n",
            "[28, 64, 0.081896, 0.017901666666666666]\n",
            "[30, 64, 0.028018, 0.006159]\n",
            "[32, 64, 0.005958, 0.0012926666666666666]\n",
            "[34, 64, 0.000506, 0.000113]\n",
            "[36, 64, 1.8e-05, 4.333333333333333e-06]\n",
            "[38, 64, 0.0, 0.0]\n",
            "[0, 16, 0.776902, 0.380788]\n",
            "[2, 16, 0.725976, 0.3492385]\n",
            "[4, 16, 0.660876, 0.312264]\n",
            "[6, 16, 0.581794, 0.271883]\n",
            "[8, 16, 0.488354, 0.22801]\n",
            "[10, 16, 0.384806, 0.180059]\n",
            "[12, 16, 0.272112, 0.127608]\n",
            "[14, 16, 0.166414, 0.078144]\n",
            "[16, 16, 0.082004, 0.0384995]\n",
            "[18, 16, 0.028478, 0.0133755]\n",
            "[20, 16, 0.00568, 0.00269]\n",
            "[22, 16, 0.000554, 0.000264]\n",
            "[24, 16, 1.6e-05, 1.15e-05]\n",
            "[26, 16, 0.0, 0.0]\n",
            "[0, 16, 0.776138, 0.320766]\n",
            "[2, 16, 0.725716, 0.2842825]\n",
            "[4, 16, 0.660962, 0.2446465]\n",
            "[6, 16, 0.582514, 0.203366]\n",
            "[8, 16, 0.488522, 0.1613085]\n",
            "[10, 16, 0.382944, 0.1220525]\n",
            "[12, 16, 0.272358, 0.085555]\n",
            "[14, 16, 0.166552, 0.051955]\n",
            "[16, 16, 0.081964, 0.025617]\n",
            "[18, 16, 0.02818, 0.0088235]\n",
            "[20, 16, 0.005748, 0.0018085]\n",
            "[22, 16, 0.000488, 0.0001515]\n",
            "[24, 16, 2.6e-05, 9e-06]\n",
            "[26, 16, 0.0, 0.0]\n",
            "[0, 6, 0.462846, 0.2945621067182115]\n",
            "[2, 6, 0.366716, 0.2339120973055945]\n",
            "[4, 6, 0.261182, 0.16762409508034135]\n",
            "[6, 6, 0.157418, 0.10143435346812574]\n",
            "[8, 6, 0.075546, 0.04873494294979308]\n",
            "[10, 6, 0.025244, 0.016384763797611775]\n",
            "[12, 6, 0.00481, 0.003075479817514606]\n",
            "[14, 6, 0.000378, 0.0002444909741722303]\n",
            "[16, 6, 2e-06, 1.5474112289381664e-06]\n",
            "[18, 6, 0.0, 0.0]\n",
            "[0, 6, 0.641962, 0.3417264272706323]\n",
            "[2, 6, 0.577294, 0.2915802452800476]\n",
            "[4, 6, 0.506174, 0.24065339432446364]\n",
            "[6, 6, 0.438258, 0.19552778806616883]\n",
            "[8, 6, 0.383254, 0.16055397317532286]\n",
            "[10, 6, 0.349462, 0.1391857715149157]\n",
            "[12, 6, 0.335974, 0.13078874448108277]\n",
            "[14, 6, 0.333574, 0.12910902959207038]\n",
            "[16, 6, 0.33194, 0.12841192083343372]\n",
            "[18, 6, 0.33337, 0.12896512034777913]\n",
            "[20, 6, 0.333252, 0.12891947171652546]\n",
            "[22, 6, 0.33287, 0.12877169394416185]\n",
            "[24, 6, 0.333212, 0.12890399760423607]\n",
            "[26, 6, 0.332728, 0.12871676084553454]\n",
            "[28, 6, 0.333936, 0.1291840790366739]\n",
            "[30, 6, 0.33199, 0.12843126347379547]\n",
            "[32, 6, 0.333756, 0.12911444553137166]\n",
            "[34, 6, 0.332412, 0.12859451535844843]\n",
            "[36, 6, 0.33281, 0.12874848277572778]\n",
            "[38, 6, 0.331832, 0.1283701407302524]\n",
            "[40, 6, 0.333278, 0.12892952988951356]\n",
            "[42, 6, 0.33297, 0.1288103792248853]\n",
            "[44, 6, 0.33297, 0.1288103792248853]\n",
            "[46, 6, 0.331638, 0.1282950912856489]\n",
            "[48, 6, 0.334462, 0.12938756361327924]\n",
            "[50, 6, 0.333694, 0.12909046065732313]\n",
            "[52, 6, 0.332892, 0.12878020470592103]\n",
            "[54, 6, 0.33304, 0.12883745892139173]\n",
            "[0, 4, 0.2932, 0.213625]\n",
            "[2, 4, 0.19761, 0.145352]\n",
            "[4, 4, 0.109356, 0.081058]\n",
            "[6, 4, 0.045326, 0.034003]\n",
            "[8, 4, 0.012162, 0.009157]\n",
            "[10, 4, 0.001528, 0.001139]\n",
            "[12, 4, 7.2e-05, 5.5e-05]\n",
            "[14, 4, 0.0, 0.0]\n",
            "[0, 4, 0.292256, 0.158578]\n",
            "[2, 4, 0.197222, 0.104028]\n",
            "[4, 4, 0.110318, 0.056733]\n",
            "[6, 4, 0.045554, 0.023056]\n",
            "[8, 4, 0.012148, 0.006093]\n",
            "[10, 4, 0.001486, 0.000744]\n",
            "[12, 4, 6.6e-05, 3.3e-05]\n",
            "[14, 4, 0.0, 0.0]\n"
          ]
        },
        {
          "output_type": "display_data",
          "data": {
            "image/png": "[encoded data removed]",
            "text/plain": [
              "<Figure size 432x288 with 1 Axes>"
            ]
          },
          "metadata": {
            "needs_background": "light"
          }
        }
      ]
    },
    {
      "cell_type": "markdown",
      "source": [
        "## I)6PSKについて以上です．"
      ],
      "metadata": {
        "id": "1vs8z9p1l4gl"
      }
    },
    {
      "cell_type": "markdown",
      "source": [
        "## II)らせん状シフトキーイング\n",
        "### その名もArchimedes Shift Keyingです．\n",
        "情報信号$x$を位相シフトと振幅シフトを行い\n",
        "$$y = r(x) e^{j \\theta(x)}$$とします． <br>\n",
        "ここで位相シフト$r(x)$と振幅シフト$\\theta(x)$は$x$によって決まり，基本となる数式は以下で表現されます<br>\n",
        "\n",
        "$$\n",
        "\\theta = \\Delta \\theta  \\cdot x\\\\\n",
        "r = a \\theta \\\\\n",
        " \\\\\n",
        "\\Delta \\theta = \\frac{2.0 \\pi}{回転数} \\cdot \\frac{1}{配置信号数}\n",
        "$$\n",
        "\n",
        "なお，$a$は振幅$r$の最大値が$1.0$になるように正規化するための定数です．"
      ],
      "metadata": {
        "id": "pP8X0W6_q8wo"
      }
    },
    {
      "cell_type": "code",
      "source": [
        "import math\n",
        "\n",
        "def ask_test(m_level, i_snr, i_size, rotation_num = 2, plot=False, gray=False):\n",
        "    \"\"\"PSK test\n",
        "\n",
        "    Parameters\n",
        "    ----------\n",
        "    m_level: modulation level (integer)\n",
        "    i_snr: SNR in dB\n",
        "    i_size: number of samples\n",
        "    a: r = a * theta\n",
        "    rotation_num: くるくる回転する回数\n",
        "    plot: optional. if True, scatter plot will be generated.\n",
        "    gray: optional. if True, gray code is used.\n",
        "\n",
        "    Returns\n",
        "    -------\n",
        "    (SER, BER)\n",
        "    \"\"\"\n",
        "    src = np.random.randint(m_level, size=i_size)\n",
        "\n",
        "    x = int2gray(src) if gray else src\n",
        "\n",
        "\n",
        "    # Start of 要修正\n",
        "    #y = np.exp(1j*np.pi*2/m_level*x)\n",
        "    # End of 要修正\n",
        "    \"\"\"\n",
        "    2.0 * np.pi * (rotation_num + 1) * a= 1.0\n",
        "    <-> a = 1.0 / (2.0 * np.pi * (rotation_num + 1))\n",
        "    \"\"\"\n",
        "\n",
        "    a = 1.0 / (2.0 * np.pi * (rotation_num + 1))\n",
        "\n",
        "    \"\"\"\n",
        "    xに位相シフトと振幅シフトを適用させる\n",
        "    y = r * exp(j theta x)\n",
        "    r = a * theta\n",
        "    \"\"\"\n",
        "\n",
        "    #Shift Start\n",
        "    d_theta = np.pi*2/m_level * rotation_num\n",
        "\n",
        "    theta = d_theta * x + (2.0 * np.pi) * 1.0\n",
        "    r = a * theta\n",
        "    y = r * np.exp(1j*theta)\n",
        "    #Shift End\n",
        "\n",
        "    y_noisy = awgn(y, i_snr, verbose_awgn)\n",
        "\n",
        "    if plot:\n",
        "        scatter_plot(y_noisy, f\"PSK_{m_level}_{i_snr}_{i_size}\")\n",
        "\n",
        "    # Start of PSK Decryption\n",
        "    \"\"\" \n",
        "    z = np.angle(y_noisy)\n",
        "    z = z/(np.pi*2/m_level)\n",
        "    z = z.round()\n",
        "    z = np.array(z.round(), dtype='int')\n",
        "    z = np.where(z<0, z+m_level, z)\n",
        "    \"\"\"\n",
        "    # End of PSK Decryption\n",
        "\n",
        "    # Start of ASK Decryption\n",
        "    z = np.abs(y) # z = r\n",
        "    z = (z/a - 2.0 * np.pi) / d_theta\n",
        "    # End of ASK Decryption\n",
        "\n",
        "    z = np.array(z, dtype='int')\n",
        "\n",
        "    dst = gray2int(z) if gray else z\n",
        "\n",
        "    return (calc_ser(src, dst), calc_ber(src, dst, m_level))"
      ],
      "metadata": {
        "id": "-IV8rfsrq7pu"
      },
      "execution_count": 9,
      "outputs": []
    },
    {
      "cell_type": "markdown",
      "source": [
        "#### 複号技術\n",
        "我々の目的は変調した信号$y$にGauss雑音$\\epsilon$が乗った$\\hat{y} = y + \\epsilon$から$x$を複号することです．受信側は$\\hat{y}$しか観測できていないことに注意しましょう．\n",
        "$$\n",
        "  \\hat{y} = \\hat{r} e^{j \\hat{\\theta}}\n",
        "$$\n",
        "とおき，今回のアルゴリズムは振幅$\\hat{r}$から情報信号$x$を復号してみることにします．<br>\n",
        "上式より\n",
        "$$\n",
        "\\hat{r} = |\\hat{y}|\n",
        "$$\n",
        "と絶対値をとることで求められます．<br>\n",
        "また，変調$r = a \\theta  , (\\theta = \\Delta \\theta \\cdot x)$を思い出しましょう．いま，$\\hat{r}$をとりだしたので，情報信号$x$は以下のように予測することができます．\n",
        "$$\n",
        "\\hat{x} = \\frac{\\hat{r}}{a} \\cdot \\frac{1}{\\Delta \\theta }\n",
        "$$"
      ],
      "metadata": {
        "id": "AunUyVjv-56Y"
      }
    },
    {
      "cell_type": "code",
      "source": [
        ""
      ],
      "metadata": {
        "id": "VEpDPvOr90_K"
      },
      "execution_count": 9,
      "outputs": []
    },
    {
      "cell_type": "markdown",
      "source": [
        "### 信号配置を見てみましょう"
      ],
      "metadata": {
        "id": "D8TVD0057bUh"
      }
    },
    {
      "cell_type": "code",
      "source": [
        "ask_test(m_level = 64, i_snr = 40, i_size = 20000, rotation_num = 3, plot=True)"
      ],
      "metadata": {
        "colab": {
          "base_uri": "https://localhost:8080/",
          "height": 314
        },
        "id": "DeiIOm7AtlaF",
        "outputId": "f810d52f-d0ee-45d5-fb92-39b5244a2216"
      },
      "execution_count": 10,
      "outputs": [
        {
          "output_type": "execute_result",
          "data": {
            "text/plain": [
              "(0.38665, 0.11426666666666667)"
            ]
          },
          "metadata": {},
          "execution_count": 10
        },
        {
          "output_type": "display_data",
          "data": {
            "image/png": "[encoded data removed]",
            "text/plain": [
              "<Figure size 432x288 with 1 Axes>"
            ]
          },
          "metadata": {
            "needs_background": "light"
          }
        }
      ]
    },
    {
      "cell_type": "code",
      "source": [
        "ask_test(m_level = 16, i_snr = 40, i_size = 20000, rotation_num = 3, plot=True)"
      ],
      "metadata": {
        "colab": {
          "base_uri": "https://localhost:8080/",
          "height": 314
        },
        "id": "OC5AKF3m6ZzT",
        "outputId": "bf7a19f2-0593-41ae-c9b4-aeca78afffc2"
      },
      "execution_count": 11,
      "outputs": [
        {
          "output_type": "execute_result",
          "data": {
            "text/plain": [
              "(0.31645, 0.1108125)"
            ]
          },
          "metadata": {},
          "execution_count": 11
        },
        {
          "output_type": "display_data",
          "data": {
            "image/png": "[encoded data removed]",
            "text/plain": [
              "<Figure size 432x288 with 1 Axes>"
            ]
          },
          "metadata": {
            "needs_background": "light"
          }
        }
      ]
    },
    {
      "cell_type": "code",
      "source": [
        "ask_test(m_level = 4, i_snr = 40, i_size = 20000, rotation_num = 3, plot=True)"
      ],
      "metadata": {
        "colab": {
          "base_uri": "https://localhost:8080/",
          "height": 314
        },
        "id": "I24cpueQ6cg_",
        "outputId": "3bb47542-92bf-482f-ebae-1c5f1710b25c"
      },
      "execution_count": 12,
      "outputs": [
        {
          "output_type": "execute_result",
          "data": {
            "text/plain": [
              "(0.0, 0.0)"
            ]
          },
          "metadata": {},
          "execution_count": 12
        },
        {
          "output_type": "display_data",
          "data": {
            "image/png": "[encoded data removed]",
            "text/plain": [
              "<Figure size 432x288 with 1 Axes>"
            ]
          },
          "metadata": {
            "needs_background": "light"
          }
        }
      ]
    },
    {
      "cell_type": "markdown",
      "source": [
        "### Archimedesの螺旋になっていることが分かると思います．"
      ],
      "metadata": {
        "id": "i0oIZZZS7hXf"
      }
    },
    {
      "cell_type": "markdown",
      "source": [
        "### 普通のPSKに対してSNR-BERグラフをプロットしてみましょう．"
      ],
      "metadata": {
        "id": "1-3QMtA67tXI"
      }
    },
    {
      "cell_type": "code",
      "source": [
        "size = 200000\n",
        "for m in [64, 16, 4]:\n",
        "    snrs = []\n",
        "    bers = []\n",
        "    for snr in range(0, 55, 2):\n",
        "        ser, ber = psk_test(m, snr, size)\n",
        "        if verbose:\n",
        "            print([snr, m, ser, ber])\n",
        "        if ber < 1e-6:\n",
        "            break\n",
        "        snrs.append(snr)\n",
        "        bers.append(ber)\n",
        "    plt.semilogy(snrs, bers, '-o', label=f\"{m}PSK\")\n",
        "\n",
        "    #ASK\n",
        "    snrs = []\n",
        "    bers = []\n",
        "    for snr in range(0, 55, 2):\n",
        "        ser, ber = ask_test(m, snr, size)\n",
        "        if verbose:\n",
        "            print([snr, m, ser, ber])\n",
        "        if ber < 1e-6:\n",
        "            break\n",
        "        snrs.append(snr)\n",
        "        bers.append(ber)\n",
        "    plt.semilogy(snrs, bers, '-o', label=f\"{m}ASK\")\n",
        "\n",
        "plt.grid()\n",
        "plt.xlabel(\"SNR (dB)\")\n",
        "plt.ylabel(\"BER\")\n",
        "plt.legend()\n",
        "plt.tight_layout()\n",
        "plt.ylim(top=1)\n",
        "plt.savefig(\"PSK_QAM_ASK.png\")\n",
        "plt.savefig(\"PSK_QAM_ASK.pdf\")"
      ],
      "metadata": {
        "colab": {
          "base_uri": "https://localhost:8080/",
          "height": 1000
        },
        "id": "Hh6OVKOe8GAb",
        "outputId": "83931516-f8a5-495f-e457-5813dfc647ba"
      },
      "execution_count": 13,
      "outputs": [
        {
          "output_type": "stream",
          "name": "stdout",
          "text": [
            "[0, 64, 0.9442, 0.42252083333333335]\n",
            "[2, 64, 0.929895, 0.4014775]\n",
            "[4, 64, 0.91371, 0.3797466666666667]\n",
            "[6, 64, 0.89046, 0.3549025]\n",
            "[8, 64, 0.86169, 0.32834583333333334]\n",
            "[10, 64, 0.826345, 0.3019925]\n",
            "[12, 64, 0.782195, 0.27616]\n",
            "[14, 64, 0.729495, 0.2488175]\n",
            "[16, 64, 0.662195, 0.22087916666666665]\n",
            "[18, 64, 0.5817, 0.19167666666666666]\n",
            "[20, 64, 0.485095, 0.1589175]\n",
            "[22, 64, 0.383145, 0.126135]\n",
            "[24, 64, 0.27228, 0.08905833333333334]\n",
            "[26, 64, 0.166105, 0.0543375]\n",
            "[28, 64, 0.081525, 0.026535]\n",
            "[30, 64, 0.02915, 0.009600833333333333]\n",
            "[32, 64, 0.00616, 0.0019858333333333334]\n",
            "[34, 64, 0.00046, 0.00014583333333333335]\n",
            "[36, 64, 1.5e-05, 4.166666666666667e-06]\n",
            "[38, 64, 0.0, 0.0]\n",
            "[0, 64, 0.375195, 0.11716166666666666]\n",
            "[2, 64, 0.37502, 0.11738083333333334]\n",
            "[4, 64, 0.375655, 0.1172325]\n",
            "[6, 64, 0.374225, 0.11645416666666666]\n",
            "[8, 64, 0.374415, 0.117075]\n",
            "[10, 64, 0.374615, 0.1172675]\n",
            "[12, 64, 0.37638, 0.11786666666666666]\n",
            "[14, 64, 0.37345, 0.11694333333333333]\n",
            "[16, 64, 0.37549, 0.1173475]\n",
            "[18, 64, 0.37587, 0.11708083333333333]\n",
            "[20, 64, 0.37782, 0.11815416666666667]\n",
            "[22, 64, 0.375425, 0.11738333333333334]\n",
            "[24, 64, 0.375665, 0.11750916666666666]\n",
            "[26, 64, 0.374055, 0.11693666666666666]\n",
            "[28, 64, 0.37583, 0.1171925]\n",
            "[30, 64, 0.374635, 0.11686333333333333]\n",
            "[32, 64, 0.37434, 0.11720083333333334]\n",
            "[34, 64, 0.374325, 0.11712083333333333]\n",
            "[36, 64, 0.375665, 0.117125]\n",
            "[38, 64, 0.375515, 0.117105]\n",
            "[40, 64, 0.37493, 0.11760083333333333]\n",
            "[42, 64, 0.377655, 0.1182325]\n",
            "[44, 64, 0.376255, 0.11788333333333334]\n",
            "[46, 64, 0.373975, 0.11606666666666667]\n",
            "[48, 64, 0.375985, 0.11766916666666667]\n",
            "[50, 64, 0.3732, 0.1167975]\n",
            "[52, 64, 0.37537, 0.11686666666666666]\n",
            "[54, 64, 0.374795, 0.11741416666666667]\n",
            "[0, 16, 0.77773, 0.38056125]\n",
            "[2, 16, 0.726825, 0.34989]\n",
            "[4, 16, 0.660585, 0.31218375]\n",
            "[6, 16, 0.582575, 0.272435]\n",
            "[8, 16, 0.488335, 0.22818125]\n",
            "[10, 16, 0.38486, 0.180695]\n",
            "[12, 16, 0.272915, 0.128035]\n",
            "[14, 16, 0.166475, 0.07760375]\n",
            "[16, 16, 0.08071, 0.03763875]\n",
            "[18, 16, 0.027985, 0.01310875]\n",
            "[20, 16, 0.00591, 0.0028025]\n",
            "[22, 16, 0.00049, 0.00025125]\n",
            "[24, 16, 1.5e-05, 3.75e-06]\n",
            "[26, 16, 0.0, 0.0]\n",
            "[0, 16, 0.43762, 0.17134375]\n",
            "[2, 16, 0.437965, 0.17246625]\n",
            "[4, 16, 0.43601, 0.17147875]\n",
            "[6, 16, 0.438225, 0.1718725]\n",
            "[8, 16, 0.438885, 0.17297]\n",
            "[10, 16, 0.43793, 0.1722675]\n",
            "[12, 16, 0.434355, 0.17011875]\n",
            "[14, 16, 0.437515, 0.172215]\n",
            "[16, 16, 0.43817, 0.17229375]\n",
            "[18, 16, 0.438045, 0.17210125]\n",
            "[20, 16, 0.438145, 0.17215375]\n",
            "[22, 16, 0.43856, 0.172425]\n",
            "[24, 16, 0.437355, 0.17170625]\n",
            "[26, 16, 0.43726, 0.171805]\n",
            "[28, 16, 0.438305, 0.1721425]\n",
            "[30, 16, 0.437925, 0.17232875]\n",
            "[32, 16, 0.43719, 0.172145]\n",
            "[34, 16, 0.438085, 0.17249625]\n",
            "[36, 16, 0.4375, 0.1720375]\n",
            "[38, 16, 0.43743, 0.17219875]\n",
            "[40, 16, 0.43802, 0.171965]\n",
            "[42, 16, 0.4395, 0.17234]\n",
            "[44, 16, 0.43729, 0.17154125]\n",
            "[46, 16, 0.438175, 0.17230625]\n",
            "[48, 16, 0.438055, 0.17225875]\n",
            "[50, 16, 0.437255, 0.17187125]\n",
            "[52, 16, 0.435135, 0.17128]\n",
            "[54, 16, 0.439285, 0.17278875]\n",
            "[0, 4, 0.29319, 0.2142675]\n",
            "[2, 4, 0.19862, 0.1459775]\n",
            "[4, 4, 0.110275, 0.08175]\n",
            "[6, 4, 0.045055, 0.0336375]\n",
            "[8, 4, 0.01194, 0.0089825]\n",
            "[10, 4, 0.00171, 0.0013025]\n",
            "[12, 4, 5e-05, 4.5e-05]\n",
            "[14, 4, 1e-05, 5e-06]\n",
            "[16, 4, 0.0, 0.0]\n",
            "[0, 4, 0.24806, 0.24806]\n",
            "[2, 4, 0.25114, 0.25114]\n",
            "[4, 4, 0.24753, 0.24753]\n",
            "[6, 4, 0.2484, 0.2484]\n",
            "[8, 4, 0.248865, 0.248865]\n",
            "[10, 4, 0.24983, 0.24983]\n",
            "[12, 4, 0.249415, 0.249415]\n",
            "[14, 4, 0.248695, 0.248695]\n",
            "[16, 4, 0.250745, 0.250745]\n",
            "[18, 4, 0.25021, 0.25021]\n",
            "[20, 4, 0.250935, 0.250935]\n",
            "[22, 4, 0.24906, 0.24906]\n",
            "[24, 4, 0.24975, 0.24975]\n",
            "[26, 4, 0.250425, 0.250425]\n",
            "[28, 4, 0.249935, 0.249935]\n",
            "[30, 4, 0.24997, 0.24997]\n",
            "[32, 4, 0.25017, 0.25017]\n",
            "[34, 4, 0.24915, 0.24915]\n",
            "[36, 4, 0.249, 0.249]\n",
            "[38, 4, 0.251385, 0.251385]\n",
            "[40, 4, 0.250155, 0.250155]\n",
            "[42, 4, 0.251845, 0.251845]\n",
            "[44, 4, 0.250135, 0.250135]\n",
            "[46, 4, 0.24979, 0.24979]\n",
            "[48, 4, 0.250295, 0.250295]\n",
            "[50, 4, 0.249505, 0.249505]\n",
            "[52, 4, 0.24945, 0.24945]\n",
            "[54, 4, 0.25142, 0.25142]\n"
          ]
        },
        {
          "output_type": "display_data",
          "data": {
            "image/png": "[encoded data removed]",
            "text/plain": [
              "<Figure size 432x288 with 1 Axes>"
            ]
          },
          "metadata": {
            "needs_background": "light"
          }
        }
      ]
    }
  ],
  "metadata": {
    "anaconda-cloud": {},
    "kernelspec": {
      "display_name": "Python 3",
      "language": "python",
      "name": "python3"
    },
    "language_info": {
      "codemirror_mode": {
        "name": "ipython",
        "version": 3
      },
      "file_extension": ".py",
      "mimetype": "text/x-python",
      "name": "python",
      "nbconvert_exporter": "python",
      "pygments_lexer": "ipython3",
      "version": "3.6.9"
    },
    "colab": {
      "name": "RRSK.ipynb",
      "provenance": [],
      "collapsed_sections": []
    }
  },
  "nbformat": 4,
  "nbformat_minor": 0
}